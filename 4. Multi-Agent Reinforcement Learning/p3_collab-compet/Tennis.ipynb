{
 "cells": [
  {
   "cell_type": "markdown",
   "metadata": {},
   "source": [
    "# Collaboration and Competition\n",
    "\n",
    "---\n",
    "\n",
    "You are welcome to use this coding environment to train your agent for the project.  Follow the instructions below to get started!\n",
    "\n",
    "### 1. Start the Environment\n",
    "\n",
    "Run the next code cell to install a few packages.  This line will take a few minutes to run!"
   ]
  },
  {
   "cell_type": "code",
   "execution_count": 1,
   "metadata": {},
   "outputs": [
    {
     "name": "stdout",
     "output_type": "stream",
     "text": [
      "\u001b[31mtensorflow 1.7.1 has requirement numpy>=1.13.3, but you'll have numpy 1.12.1 which is incompatible.\u001b[0m\r\n",
      "\u001b[31mipython 6.5.0 has requirement prompt-toolkit<2.0.0,>=1.0.15, but you'll have prompt-toolkit 2.0.10 which is incompatible.\u001b[0m\r\n"
     ]
    }
   ],
   "source": [
    "!pip -q install ./python"
   ]
  },
  {
   "cell_type": "markdown",
   "metadata": {},
   "source": [
    "The environment is already saved in the Workspace and can be accessed at the file path provided below. "
   ]
  },
  {
   "cell_type": "code",
   "execution_count": 2,
   "metadata": {},
   "outputs": [
    {
     "name": "stderr",
     "output_type": "stream",
     "text": [
      "INFO:unityagents:\n",
      "'Academy' started successfully!\n",
      "Unity Academy name: Academy\n",
      "        Number of Brains: 1\n",
      "        Number of External Brains : 1\n",
      "        Lesson number : 0\n",
      "        Reset Parameters :\n",
      "\t\t\n",
      "Unity brain name: TennisBrain\n",
      "        Number of Visual Observations (per agent): 0\n",
      "        Vector Observation space type: continuous\n",
      "        Vector Observation space size (per agent): 8\n",
      "        Number of stacked Vector Observation: 3\n",
      "        Vector Action space type: continuous\n",
      "        Vector Action space size (per agent): 2\n",
      "        Vector Action descriptions: , \n"
     ]
    }
   ],
   "source": [
    "from unityagents import UnityEnvironment\n",
    "import numpy as np\n",
    "\n",
    "env = UnityEnvironment(file_name=\"/data/Tennis_Linux_NoVis/Tennis\")"
   ]
  },
  {
   "cell_type": "markdown",
   "metadata": {},
   "source": [
    "Environments contain **_brains_** which are responsible for deciding the actions of their associated agents. Here we check for the first brain available, and set it as the default brain we will be controlling from Python."
   ]
  },
  {
   "cell_type": "code",
   "execution_count": 3,
   "metadata": {},
   "outputs": [],
   "source": [
    "# get the default brain\n",
    "brain_name = env.brain_names[0]\n",
    "brain = env.brains[brain_name]"
   ]
  },
  {
   "cell_type": "markdown",
   "metadata": {},
   "source": [
    "### 2. Examine the State and Action Spaces\n",
    "\n",
    "Run the code cell below to print some information about the environment."
   ]
  },
  {
   "cell_type": "code",
   "execution_count": 4,
   "metadata": {},
   "outputs": [
    {
     "name": "stdout",
     "output_type": "stream",
     "text": [
      "Number of agents: 2\n",
      "Size of each action: 2\n",
      "There are 2 agents. Each observes a state with length: 24\n",
      "The state for the first agent looks like: [ 0.          0.          0.          0.          0.          0.          0.\n",
      "  0.          0.          0.          0.          0.          0.          0.\n",
      "  0.          0.         -6.65278625 -1.5        -0.          0.\n",
      "  6.83172083  6.         -0.          0.        ]\n"
     ]
    }
   ],
   "source": [
    "# reset the environment\n",
    "env_info = env.reset(train_mode=True)[brain_name]\n",
    "\n",
    "# number of agents \n",
    "num_agents = len(env_info.agents)\n",
    "print('Number of agents:', num_agents)\n",
    "\n",
    "# size of each action\n",
    "action_size = brain.vector_action_space_size\n",
    "print('Size of each action:', action_size)\n",
    "\n",
    "# examine the state space \n",
    "states = env_info.vector_observations\n",
    "state_size = states.shape[1]\n",
    "print('There are {} agents. Each observes a state with length: {}'.format(states.shape[0], state_size))\n",
    "print('The state for the first agent looks like:', states[0])"
   ]
  },
  {
   "cell_type": "markdown",
   "metadata": {},
   "source": [
    "### 3. Take Random Actions in the Environment\n",
    "\n",
    "In the next code cell, you will learn how to use the Python API to control the agent and receive feedback from the environment.\n",
    "\n",
    "Note that **in this coding environment, you will not be able to watch the agents while they are training**, and you should set `train_mode=True` to restart the environment."
   ]
  },
  {
   "cell_type": "code",
   "execution_count": 5,
   "metadata": {},
   "outputs": [
    {
     "name": "stdout",
     "output_type": "stream",
     "text": [
      "Total score (averaged over agents) this episode: -0.004999999888241291\n",
      "Total score (averaged over agents) this episode: 0.04500000085681677\n",
      "Total score (averaged over agents) this episode: -0.004999999888241291\n",
      "Total score (averaged over agents) this episode: -0.004999999888241291\n",
      "Total score (averaged over agents) this episode: 0.04500000085681677\n"
     ]
    }
   ],
   "source": [
    "for i in range(5):                                         # play game for 5 episodes\n",
    "    env_info = env.reset(train_mode=False)[brain_name]     # reset the environment    \n",
    "    states = env_info.vector_observations                  # get the current state (for each agent)\n",
    "    scores = np.zeros(num_agents)                          # initialize the score (for each agent)\n",
    "    while True:\n",
    "        actions = np.random.randn(num_agents, action_size) # select an action (for each agent)\n",
    "        actions = np.clip(actions, -1, 1)                  # all actions between -1 and 1\n",
    "        env_info = env.step(actions)[brain_name]           # send all actions to tne environment\n",
    "        next_states = env_info.vector_observations         # get next state (for each agent)\n",
    "        rewards = env_info.rewards                         # get reward (for each agent)\n",
    "        dones = env_info.local_done                        # see if episode finished\n",
    "        scores += env_info.rewards                         # update the score (for each agent)\n",
    "        states = next_states                               # roll over states to next time step\n",
    "        if np.any(dones):                                  # exit loop if episode finished\n",
    "            break\n",
    "    print('Total score (averaged over agents) this episode: {}'.format(np.mean(scores)))"
   ]
  },
  {
   "cell_type": "markdown",
   "metadata": {},
   "source": [
    "When finished, you can close the environment."
   ]
  },
  {
   "cell_type": "markdown",
   "metadata": {},
   "source": [
    "### 4. It's Your Turn!\n",
    "\n",
    "Now it's your turn to train your own agent to solve the environment!  A few **important notes**:\n",
    "- When training the environment, set `train_mode=True`, so that the line for resetting the environment looks like the following:\n",
    "```python\n",
    "env_info = env.reset(train_mode=True)[brain_name]\n",
    "```\n",
    "- To structure your work, you're welcome to work directly in this Jupyter notebook, or you might like to start over with a new file!  You can see the list of files in the workspace by clicking on **_Jupyter_** in the top left corner of the notebook.\n",
    "- In this coding environment, you will not be able to watch the agents while they are training.  However, **_after training the agents_**, you can download the saved model weights to watch the agents on your own machine! "
   ]
  },
  {
   "cell_type": "code",
   "execution_count": 6,
   "metadata": {},
   "outputs": [],
   "source": [
    "from agent import Agent\n",
    "from collections import deque\n",
    "import time\n",
    "import torch\n",
    "import matplotlib.pyplot as plt"
   ]
  },
  {
   "cell_type": "code",
   "execution_count": 7,
   "metadata": {},
   "outputs": [],
   "source": [
    "agent = Agent(state_size=state_size, action_size=action_size, num_agents=num_agents, random_seed=2)"
   ]
  },
  {
   "cell_type": "code",
   "execution_count": 8,
   "metadata": {},
   "outputs": [],
   "source": [
    "def save_model():\n",
    "    print(\"Model Save...\")\n",
    "    torch.save(agent.actor_local.state_dict(), 'checkpoint_actor.pth')\n",
    "    torch.save(agent.critic_local.state_dict(), 'checkpoint_critic.pth')"
   ]
  },
  {
   "cell_type": "code",
   "execution_count": 10,
   "metadata": {
    "scrolled": false
   },
   "outputs": [
    {
     "name": "stdout",
     "output_type": "stream",
     "text": [
      "Episode 10, Average Score: -0.00, Time: 0.05\n",
      "Episode 20, Average Score: -0.00, Time: 0.05\n",
      "Episode 30, Average Score: -0.00, Time: 0.05\n",
      "Episode 40, Average Score: -0.00, Time: 0.45\n",
      "Episode 50, Average Score: -0.00, Time: 0.47\n",
      "Episode 60, Average Score: -0.00, Time: 0.45\n",
      "Episode 70, Average Score: -0.00, Time: 0.45\n",
      "Episode 80, Average Score: -0.00, Time: 0.46\n",
      "Episode 90, Average Score: -0.00, Time: 0.46\n",
      "Episode 100, Average Score: -0.00, Time: 0.05\n",
      "Episode 110, Average Score: -0.00, Time: 0.05\n",
      "Episode 120, Average Score: -0.00, Time: 0.51\n",
      "Episode 130, Average Score: 0.00, Time: 0.46\n",
      "Episode 140, Average Score: 0.00, Time: 0.46\n",
      "Episode 150, Average Score: 0.00, Time: 0.05\n",
      "Episode 160, Average Score: 0.00, Time: 0.05\n",
      "Episode 170, Average Score: 0.00, Time: 0.06\n",
      "Episode 180, Average Score: 0.00, Time: 0.06\n",
      "Episode 190, Average Score: 0.00, Time: 0.05\n",
      "Episode 200, Average Score: 0.01, Time: 0.51\n",
      "Episode 210, Average Score: 0.01, Time: 0.46\n",
      "Episode 220, Average Score: 0.01, Time: 0.47\n",
      "Episode 230, Average Score: 0.01, Time: 0.49\n",
      "Episode 240, Average Score: 0.01, Time: 0.92\n",
      "Episode 250, Average Score: 0.01, Time: 0.48\n",
      "Episode 260, Average Score: 0.01, Time: 0.05\n",
      "Episode 270, Average Score: 0.00, Time: 0.47\n",
      "Episode 280, Average Score: 0.00, Time: 0.46\n",
      "Episode 290, Average Score: 0.00, Time: 0.46\n",
      "Episode 300, Average Score: 0.00, Time: 0.46\n",
      "Episode 310, Average Score: -0.00, Time: 0.46\n",
      "Episode 320, Average Score: -0.00, Time: 0.05\n",
      "Episode 330, Average Score: -0.00, Time: 0.46\n",
      "Episode 340, Average Score: -0.00, Time: 0.46\n",
      "Episode 350, Average Score: -0.00, Time: 0.49\n",
      "Episode 360, Average Score: -0.00, Time: 0.46\n",
      "Episode 370, Average Score: -0.00, Time: 0.05\n",
      "Episode 380, Average Score: -0.00, Time: 0.47\n",
      "Episode 390, Average Score: -0.00, Time: 0.46\n",
      "Episode 400, Average Score: -0.00, Time: 0.45\n",
      "Episode 410, Average Score: -0.00, Time: 0.47\n",
      "Episode 420, Average Score: -0.00, Time: 0.05\n",
      "Episode 430, Average Score: -0.00, Time: 0.46\n",
      "Episode 440, Average Score: -0.00, Time: 0.45\n",
      "Episode 450, Average Score: -0.00, Time: 0.47\n",
      "Episode 460, Average Score: -0.00, Time: 0.46\n",
      "Episode 470, Average Score: -0.00, Time: 0.46\n",
      "Episode 480, Average Score: 0.00, Time: 0.94\n",
      "Episode 490, Average Score: 0.00, Time: 0.96\n",
      "Episode 500, Average Score: 0.01, Time: 0.95\n",
      "Episode 510, Average Score: 0.01, Time: 0.94\n",
      "Episode 520, Average Score: 0.01, Time: 0.47\n",
      "Episode 530, Average Score: 0.01, Time: 0.94\n",
      "Episode 540, Average Score: 0.01, Time: 0.46\n",
      "Episode 550, Average Score: 0.01, Time: 0.46\n",
      "Episode 560, Average Score: 0.01, Time: 0.47\n",
      "Episode 570, Average Score: 0.01, Time: 0.47\n",
      "Episode 580, Average Score: 0.00, Time: 0.47\n",
      "Episode 590, Average Score: 0.01, Time: 0.94\n",
      "Episode 600, Average Score: 0.01, Time: 0.52\n",
      "Episode 610, Average Score: 0.01, Time: 0.46\n",
      "Episode 620, Average Score: 0.01, Time: 0.05\n",
      "Episode 630, Average Score: 0.01, Time: 0.52\n",
      "Episode 640, Average Score: 0.01, Time: 0.47\n",
      "Episode 650, Average Score: 0.01, Time: 0.47\n",
      "Episode 660, Average Score: 0.01, Time: 0.46\n",
      "Episode 670, Average Score: 0.01, Time: 0.46\n",
      "Episode 680, Average Score: 0.01, Time: 0.46\n",
      "Episode 690, Average Score: 0.00, Time: 0.47\n",
      "Episode 700, Average Score: 0.00, Time: 0.47\n",
      "Episode 710, Average Score: 0.00, Time: 0.47\n",
      "Episode 720, Average Score: 0.00, Time: 0.52\n",
      "Episode 730, Average Score: 0.00, Time: 0.05\n",
      "Episode 740, Average Score: -0.00, Time: 0.47\n",
      "Episode 750, Average Score: -0.00, Time: 0.05\n",
      "Episode 760, Average Score: -0.00, Time: 0.48\n",
      "Episode 770, Average Score: 0.00, Time: 0.48\n",
      "Episode 780, Average Score: 0.00, Time: 0.47\n",
      "Episode 790, Average Score: 0.00, Time: 0.49\n",
      "Episode 800, Average Score: 0.00, Time: 0.94\n",
      "Episode 810, Average Score: 0.00, Time: 0.47\n",
      "Episode 820, Average Score: 0.00, Time: 0.05\n",
      "Episode 830, Average Score: 0.00, Time: 0.46\n",
      "Episode 840, Average Score: 0.00, Time: 0.46\n",
      "Episode 850, Average Score: 0.00, Time: 0.53\n",
      "Episode 860, Average Score: 0.00, Time: 0.47\n",
      "Episode 870, Average Score: 0.00, Time: 0.05\n",
      "Episode 880, Average Score: 0.00, Time: 0.47\n",
      "Episode 890, Average Score: -0.00, Time: 0.46\n",
      "Episode 900, Average Score: -0.00, Time: 0.47\n",
      "Episode 910, Average Score: -0.00, Time: 0.94\n",
      "Episode 920, Average Score: 0.00, Time: 0.47\n",
      "Episode 930, Average Score: -0.00, Time: 0.47\n",
      "Episode 940, Average Score: -0.00, Time: 0.47\n",
      "Episode 950, Average Score: -0.00, Time: 0.47\n",
      "Episode 960, Average Score: -0.00, Time: 0.48\n",
      "Episode 970, Average Score: -0.00, Time: 0.47\n",
      "Episode 980, Average Score: -0.00, Time: 0.47\n",
      "Episode 990, Average Score: -0.00, Time: 0.47\n",
      "Episode 1000, Average Score: -0.00, Time: 0.04\n",
      "Episode 1010, Average Score: -0.00, Time: 0.05\n",
      "Episode 1020, Average Score: -0.00, Time: 0.47\n",
      "Episode 1030, Average Score: 0.00, Time: 0.95\n",
      "Episode 1040, Average Score: 0.00, Time: 0.52\n",
      "Episode 1050, Average Score: 0.00, Time: 0.47\n",
      "Episode 1060, Average Score: 0.00, Time: 0.47\n",
      "Episode 1070, Average Score: 0.01, Time: 1.94\n",
      "Episode 1080, Average Score: 0.01, Time: 0.53\n",
      "Episode 1090, Average Score: 0.01, Time: 0.53\n",
      "Episode 1100, Average Score: 0.01, Time: 0.53\n",
      "Episode 1110, Average Score: 0.02, Time: 0.53\n",
      "Episode 1120, Average Score: 0.02, Time: 0.54\n",
      "Episode 1130, Average Score: 0.02, Time: 0.53\n",
      "Episode 1140, Average Score: 0.02, Time: 0.46\n",
      "Episode 1150, Average Score: 0.03, Time: 0.94\n",
      "Episode 1160, Average Score: 0.03, Time: 0.53\n",
      "Episode 1170, Average Score: 0.03, Time: 0.53\n",
      "Episode 1180, Average Score: 0.03, Time: 0.05\n",
      "Episode 1190, Average Score: 0.04, Time: 0.48\n",
      "Episode 1200, Average Score: 0.04, Time: 0.52\n",
      "Episode 1210, Average Score: 0.04, Time: 1.92\n",
      "Episode 1220, Average Score: 0.05, Time: 0.95\n",
      "Episode 1230, Average Score: 0.05, Time: 0.53\n",
      "Episode 1240, Average Score: 0.05, Time: 0.96\n",
      "Episode 1250, Average Score: 0.05, Time: 0.52\n",
      "Episode 1260, Average Score: 0.05, Time: 0.96\n",
      "Episode 1270, Average Score: 0.05, Time: 0.53\n",
      "Episode 1280, Average Score: 0.05, Time: 0.96\n",
      "Episode 1290, Average Score: 0.05, Time: 0.96\n",
      "Episode 1300, Average Score: 0.05, Time: 0.52\n",
      "Episode 1310, Average Score: 0.05, Time: 0.97\n",
      "Episode 1320, Average Score: 0.05, Time: 0.95\n",
      "Episode 1330, Average Score: 0.05, Time: 0.52\n",
      "Episode 1340, Average Score: 0.05, Time: 0.96\n",
      "Episode 1350, Average Score: 0.05, Time: 1.03\n",
      "Episode 1360, Average Score: 0.05, Time: 0.96\n",
      "Episode 1370, Average Score: 0.05, Time: 1.50\n",
      "Episode 1380, Average Score: 0.05, Time: 0.55\n",
      "Episode 1390, Average Score: 0.05, Time: 0.96\n",
      "Episode 1400, Average Score: 0.06, Time: 0.96\n",
      "Episode 1410, Average Score: 0.06, Time: 1.43\n",
      "Episode 1420, Average Score: 0.07, Time: 1.96\n",
      "Episode 1430, Average Score: 0.08, Time: 5.93\n",
      "Episode 1440, Average Score: 0.08, Time: 1.47\n",
      "Episode 1450, Average Score: 0.09, Time: 1.03\n",
      "Episode 1460, Average Score: 0.09, Time: 1.48\n",
      "Episode 1470, Average Score: 0.10, Time: 6.96\n",
      "Episode 1480, Average Score: 0.14, Time: 12.44\n",
      "Episode 1490, Average Score: 0.15, Time: 0.98\n",
      "Episode 1500, Average Score: 0.16, Time: 2.50\n",
      "Episode 1510, Average Score: 0.16, Time: 2.01\n",
      "Episode 1520, Average Score: 0.17, Time: 1.54\n",
      "Episode 1530, Average Score: 0.17, Time: 0.54\n",
      "Episode 1540, Average Score: 0.17, Time: 2.51\n",
      "Episode 1550, Average Score: 0.19, Time: 2.52\n",
      "Episode 1560, Average Score: 0.22, Time: 16.87\n",
      "Episode 1570, Average Score: 0.26, Time: 11.11\n",
      "Episode 1580, Average Score: 0.26, Time: 1.07\n",
      "Episode 1590, Average Score: 0.28, Time: 6.14\n",
      "Episode 1600, Average Score: 0.33, Time: 23.81\n",
      "Episode 1610, Average Score: 0.37, Time: 3.10\n",
      "Episode 1620, Average Score: 0.40, Time: 3.69\n",
      "Episode 1630, Average Score: 0.44, Time: 4.13\n",
      "Episode 1640, Average Score: 0.50, Time: 26.04\n",
      "Model Save...\n",
      "\n",
      "Environment solved in 1641 episodes!\tAverage Score: 0.51\n",
      "Model Save...\n"
     ]
    }
   ],
   "source": [
    "def ddpg(n_episodes=5000, max_t=1000, print_every=10, save_every=100):\n",
    "    scores_deque = deque(maxlen=100)\n",
    "    scores_global = []\n",
    "        \n",
    "    for i_episode in range(1, n_episodes+1):\n",
    "        env_info = env.reset(train_mode=True)[brain_name]      # reset the environment    \n",
    "        states = env_info.vector_observations                  # get the current state (for each agent)\n",
    "        scores = np.zeros(num_agents)                          # initialize the score (for each agent)\n",
    "        agent.reset()\n",
    "        \n",
    "        score_average = 0\n",
    "        timestep = time.time()\n",
    "        while True:\n",
    "            actions = agent.act(states)\n",
    "            env_info = env.step(actions)[brain_name]           # send all actions to tne environment\n",
    "            next_states = env_info.vector_observations         # get next state (for each agent)\n",
    "            rewards = env_info.rewards                         # get reward (for each agent)\n",
    "            dones = env_info.local_done                        # see if episode finished\n",
    "            agent.step(states, actions, rewards, next_states, dones)\n",
    "            states = next_states                               # roll over states to next time step\n",
    "            scores += rewards                                  # update the score (for each agent)            \n",
    "            if np.any(dones):                                  # exit loop if episode finished\n",
    "                break\n",
    "        \n",
    "        score = np.mean(scores)\n",
    "        scores_deque.append(score)\n",
    "        score_average = np.mean(scores_deque)\n",
    "        scores_global.append(score)\n",
    "          \n",
    "        if i_episode % print_every == 0:\n",
    "            print('\\rEpisode {}, Average Score: {:.2f}, Time: {:.2f}'\\\n",
    "                  .format(i_episode, score_average, time.time() - timestep), end=\"\\n\")        \n",
    "                    \n",
    "        if score_average >= 0.5:\n",
    "            save_model()\n",
    "            print('\\nEnvironment solved in {:d} episodes!\\tAverage Score: {:.2f}'.format(i_episode, score_average))\n",
    "            save_model()\n",
    "            break            \n",
    "            \n",
    "    return scores_global\n",
    "\n",
    "scores = ddpg()"
   ]
  },
  {
   "cell_type": "code",
   "execution_count": 11,
   "metadata": {},
   "outputs": [
    {
     "data": {
      "image/png": "[encoded data removed]",
      "text/plain": [
       "<matplotlib.figure.Figure at 0x7fd24bb9f080>"
      ]
     },
     "metadata": {
      "needs_background": "light"
     },
     "output_type": "display_data"
    }
   ],
   "source": [
    "fig = plt.figure()\n",
    "ax = fig.add_subplot(111)\n",
    "plt.plot(np.arange(1, len(scores)+1), scores)\n",
    "plt.ylabel('Score')\n",
    "plt.xlabel('Episode #')\n",
    "plt.show()"
   ]
  },
  {
   "cell_type": "code",
   "execution_count": 12,
   "metadata": {},
   "outputs": [
    {
     "name": "stdout",
     "output_type": "stream",
     "text": [
      "Total score (averaged over agents) this episode: 0.1450000023469329\n"
     ]
    }
   ],
   "source": [
    "agent.actor_local.load_state_dict(torch.load('checkpoint_actor.pth'))\n",
    "agent.critic_local.load_state_dict(torch.load('checkpoint_critic.pth'))\n",
    "\n",
    "env_info = env.reset(train_mode=False)[brain_name]     # reset the environment    \n",
    "states = env_info.vector_observations                  # get the current state (for each agent)\n",
    "scores = np.zeros(num_agents)                          # initialize the score (for each agent)\n",
    "while True:\n",
    "    actions = agent.act(states)                        # select an action (for each agent)\n",
    "    env_info = env.step(actions)[brain_name]           # send all actions to tne environment\n",
    "    next_states = env_info.vector_observations         # get next state (for each agent)\n",
    "    rewards = env_info.rewards                         # get reward (for each agent)\n",
    "    dones = env_info.local_done                        # see if episode finished\n",
    "    scores += env_info.rewards                         # update the score (for each agent)\n",
    "    states = next_states                               # roll over states to next time step\n",
    "    if np.any(dones):                                  # exit loop if episode finished\n",
    "        break\n",
    "print('Total score (averaged over agents) this episode: {}'.format(np.mean(scores)))"
   ]
  },
  {
   "cell_type": "code",
   "execution_count": 13,
   "metadata": {},
   "outputs": [],
   "source": [
    "env.close()"
   ]
  },
  {
   "cell_type": "code",
   "execution_count": null,
   "metadata": {},
   "outputs": [],
   "source": []
  }
 ],
 "metadata": {
  "kernelspec": {
   "display_name": "Python 3",
   "language": "python",
   "name": "python3"
  },
  "language_info": {
   "codemirror_mode": {
    "name": "ipython",
    "version": 3
   },
   "file_extension": ".py",
   "mimetype": "text/x-python",
   "name": "python",
   "nbconvert_exporter": "python",
   "pygments_lexer": "ipython3",
   "version": "3.6.3"
  }
 },
 "nbformat": 4,
 "nbformat_minor": 2
}
